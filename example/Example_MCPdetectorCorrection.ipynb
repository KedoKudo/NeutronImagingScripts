{
 "cells": [
  {
   "cell_type": "markdown",
   "metadata": {},
   "source": [
    "# Overview\n",
    "\n",
    "This notebook is used to demonstrate how to use the module `neutronimaging` to perform correction for data collected with the MCP detector."
   ]
  },
  {
   "cell_type": "code",
   "execution_count": 1,
   "metadata": {},
   "outputs": [],
   "source": [
    "# prep env\n",
    "%matplotlib notebook\n",
    "\n",
    "import numpy as np\n",
    "import matplotlib.pyplot as plt\n",
    "from ipywidgets import interact"
   ]
  },
  {
   "cell_type": "code",
   "execution_count": 2,
   "metadata": {},
   "outputs": [],
   "source": [
    "# try to import necessary functions\n",
    "from neutronimaging.detector_correction import read_shutter_count\n",
    "from neutronimaging.detector_correction import read_shutter_time\n",
    "from neutronimaging.detector_correction import read_spectra\n",
    "from neutronimaging.detector_correction import merge_meta_data\n",
    "from neutronimaging.detector_correction import load_images\n",
    "from neutronimaging.detector_correction import calc_pixel_occupancy_probability\n",
    "from neutronimaging.detector_correction import correct_images"
   ]
  },
  {
   "cell_type": "code",
   "execution_count": 3,
   "metadata": {},
   "outputs": [
    {
     "data": {
      "text/html": [
       "<div>\n",
       "<style scoped>\n",
       "    .dataframe tbody tr th:only-of-type {\n",
       "        vertical-align: middle;\n",
       "    }\n",
       "\n",
       "    .dataframe tbody tr th {\n",
       "        vertical-align: top;\n",
       "    }\n",
       "\n",
       "    .dataframe thead th {\n",
       "        text-align: right;\n",
       "    }\n",
       "</style>\n",
       "<table border=\"1\" class=\"dataframe\">\n",
       "  <thead>\n",
       "    <tr style=\"text-align: right;\">\n",
       "      <th></th>\n",
       "      <th>shutter_index</th>\n",
       "      <th>shutter_counts</th>\n",
       "      <th>shutter_n_ratio</th>\n",
       "    </tr>\n",
       "  </thead>\n",
       "  <tbody>\n",
       "    <tr>\n",
       "      <th>0</th>\n",
       "      <td>0</td>\n",
       "      <td>194873</td>\n",
       "      <td>1.000000</td>\n",
       "    </tr>\n",
       "    <tr>\n",
       "      <th>1</th>\n",
       "      <td>1</td>\n",
       "      <td>195956</td>\n",
       "      <td>1.005557</td>\n",
       "    </tr>\n",
       "    <tr>\n",
       "      <th>2</th>\n",
       "      <td>2</td>\n",
       "      <td>204702</td>\n",
       "      <td>1.050438</td>\n",
       "    </tr>\n",
       "    <tr>\n",
       "      <th>3</th>\n",
       "      <td>3</td>\n",
       "      <td>206068</td>\n",
       "      <td>1.057448</td>\n",
       "    </tr>\n",
       "  </tbody>\n",
       "</table>\n",
       "</div>"
      ],
      "text/plain": [
       "   shutter_index  shutter_counts  shutter_n_ratio\n",
       "0              0          194873         1.000000\n",
       "1              1          195956         1.005557\n",
       "2              2          204702         1.050438\n",
       "3              3          206068         1.057448"
      ]
     },
     "execution_count": 3,
     "metadata": {},
     "output_type": "execute_result"
    }
   ],
   "source": [
    "shutter_count_file = \"../data/OB_1_005_ShutterCount.txt\"\n",
    "df_shutter_count = read_shutter_count(shutter_count_file)\n",
    "df_shutter_count"
   ]
  },
  {
   "cell_type": "code",
   "execution_count": 4,
   "metadata": {},
   "outputs": [
    {
     "data": {
      "text/html": [
       "<div>\n",
       "<style scoped>\n",
       "    .dataframe tbody tr th:only-of-type {\n",
       "        vertical-align: middle;\n",
       "    }\n",
       "\n",
       "    .dataframe tbody tr th {\n",
       "        vertical-align: top;\n",
       "    }\n",
       "\n",
       "    .dataframe thead th {\n",
       "        text-align: right;\n",
       "    }\n",
       "</style>\n",
       "<table border=\"1\" class=\"dataframe\">\n",
       "  <thead>\n",
       "    <tr style=\"text-align: right;\">\n",
       "      <th></th>\n",
       "      <th>shutter_index</th>\n",
       "      <th>start_frame</th>\n",
       "      <th>end_frame</th>\n",
       "    </tr>\n",
       "  </thead>\n",
       "  <tbody>\n",
       "    <tr>\n",
       "      <th>0</th>\n",
       "      <td>0</td>\n",
       "      <td>0.000459</td>\n",
       "      <td>0.001760</td>\n",
       "    </tr>\n",
       "    <tr>\n",
       "      <th>1</th>\n",
       "      <td>1</td>\n",
       "      <td>0.002081</td>\n",
       "      <td>0.005204</td>\n",
       "    </tr>\n",
       "    <tr>\n",
       "      <th>2</th>\n",
       "      <td>2</td>\n",
       "      <td>0.005521</td>\n",
       "      <td>0.007702</td>\n",
       "    </tr>\n",
       "    <tr>\n",
       "      <th>3</th>\n",
       "      <td>3</td>\n",
       "      <td>0.008022</td>\n",
       "      <td>0.010797</td>\n",
       "    </tr>\n",
       "  </tbody>\n",
       "</table>\n",
       "</div>"
      ],
      "text/plain": [
       "   shutter_index  start_frame  end_frame\n",
       "0              0     0.000459   0.001760\n",
       "1              1     0.002081   0.005204\n",
       "2              2     0.005521   0.007702\n",
       "3              3     0.008022   0.010797"
      ]
     },
     "execution_count": 4,
     "metadata": {},
     "output_type": "execute_result"
    }
   ],
   "source": [
    "shutter_time_file = \"../data/OB_1_005_ShutterTimes.txt\"\n",
    "df_shutter_time = read_shutter_time(shutter_time_file)\n",
    "df_shutter_time"
   ]
  },
  {
   "cell_type": "code",
   "execution_count": 5,
   "metadata": {},
   "outputs": [
    {
     "data": {
      "text/html": [
       "<div>\n",
       "<style scoped>\n",
       "    .dataframe tbody tr th:only-of-type {\n",
       "        vertical-align: middle;\n",
       "    }\n",
       "\n",
       "    .dataframe tbody tr th {\n",
       "        vertical-align: top;\n",
       "    }\n",
       "\n",
       "    .dataframe thead th {\n",
       "        text-align: right;\n",
       "    }\n",
       "</style>\n",
       "<table border=\"1\" class=\"dataframe\">\n",
       "  <thead>\n",
       "    <tr style=\"text-align: right;\">\n",
       "      <th></th>\n",
       "      <th>shutter_time</th>\n",
       "      <th>counts</th>\n",
       "    </tr>\n",
       "  </thead>\n",
       "  <tbody>\n",
       "    <tr>\n",
       "      <th>0</th>\n",
       "      <td>0.000459</td>\n",
       "      <td>162259</td>\n",
       "    </tr>\n",
       "    <tr>\n",
       "      <th>1</th>\n",
       "      <td>0.000469</td>\n",
       "      <td>160845</td>\n",
       "    </tr>\n",
       "    <tr>\n",
       "      <th>2</th>\n",
       "      <td>0.000480</td>\n",
       "      <td>161957</td>\n",
       "    </tr>\n",
       "    <tr>\n",
       "      <th>3</th>\n",
       "      <td>0.000490</td>\n",
       "      <td>162464</td>\n",
       "    </tr>\n",
       "    <tr>\n",
       "      <th>4</th>\n",
       "      <td>0.000500</td>\n",
       "      <td>161892</td>\n",
       "    </tr>\n",
       "    <tr>\n",
       "      <th>...</th>\n",
       "      <td>...</td>\n",
       "      <td>...</td>\n",
       "    </tr>\n",
       "    <tr>\n",
       "      <th>911</th>\n",
       "      <td>0.010746</td>\n",
       "      <td>21629055</td>\n",
       "    </tr>\n",
       "    <tr>\n",
       "      <th>912</th>\n",
       "      <td>0.010756</td>\n",
       "      <td>21620221</td>\n",
       "    </tr>\n",
       "    <tr>\n",
       "      <th>913</th>\n",
       "      <td>0.010766</td>\n",
       "      <td>21593506</td>\n",
       "    </tr>\n",
       "    <tr>\n",
       "      <th>914</th>\n",
       "      <td>0.010776</td>\n",
       "      <td>21587283</td>\n",
       "    </tr>\n",
       "    <tr>\n",
       "      <th>915</th>\n",
       "      <td>0.010787</td>\n",
       "      <td>21346133</td>\n",
       "    </tr>\n",
       "  </tbody>\n",
       "</table>\n",
       "<p>916 rows × 2 columns</p>\n",
       "</div>"
      ],
      "text/plain": [
       "     shutter_time    counts\n",
       "0        0.000459    162259\n",
       "1        0.000469    160845\n",
       "2        0.000480    161957\n",
       "3        0.000490    162464\n",
       "4        0.000500    161892\n",
       "..            ...       ...\n",
       "911      0.010746  21629055\n",
       "912      0.010756  21620221\n",
       "913      0.010766  21593506\n",
       "914      0.010776  21587283\n",
       "915      0.010787  21346133\n",
       "\n",
       "[916 rows x 2 columns]"
      ]
     },
     "execution_count": 5,
     "metadata": {},
     "output_type": "execute_result"
    }
   ],
   "source": [
    "spectra_file = \"../data/OB_1_005_Spectra.txt\"\n",
    "df_spectra = read_spectra(spectra_file)\n",
    "df_spectra"
   ]
  },
  {
   "cell_type": "code",
   "execution_count": 6,
   "metadata": {},
   "outputs": [
    {
     "data": {
      "text/html": [
       "<div>\n",
       "<style scoped>\n",
       "    .dataframe tbody tr th:only-of-type {\n",
       "        vertical-align: middle;\n",
       "    }\n",
       "\n",
       "    .dataframe tbody tr th {\n",
       "        vertical-align: top;\n",
       "    }\n",
       "\n",
       "    .dataframe thead th {\n",
       "        text-align: right;\n",
       "    }\n",
       "</style>\n",
       "<table border=\"1\" class=\"dataframe\">\n",
       "  <thead>\n",
       "    <tr style=\"text-align: right;\">\n",
       "      <th></th>\n",
       "      <th>shutter_time</th>\n",
       "      <th>counts</th>\n",
       "      <th>run_num</th>\n",
       "      <th>shutter_index</th>\n",
       "      <th>shutter_counts</th>\n",
       "      <th>shutter_n_ratio</th>\n",
       "    </tr>\n",
       "  </thead>\n",
       "  <tbody>\n",
       "    <tr>\n",
       "      <th>0</th>\n",
       "      <td>0.000459</td>\n",
       "      <td>162259</td>\n",
       "      <td>0</td>\n",
       "      <td>0</td>\n",
       "      <td>194873</td>\n",
       "      <td>1.000000</td>\n",
       "    </tr>\n",
       "    <tr>\n",
       "      <th>1</th>\n",
       "      <td>0.000469</td>\n",
       "      <td>160845</td>\n",
       "      <td>1</td>\n",
       "      <td>0</td>\n",
       "      <td>194873</td>\n",
       "      <td>1.000000</td>\n",
       "    </tr>\n",
       "    <tr>\n",
       "      <th>2</th>\n",
       "      <td>0.000480</td>\n",
       "      <td>161957</td>\n",
       "      <td>2</td>\n",
       "      <td>0</td>\n",
       "      <td>194873</td>\n",
       "      <td>1.000000</td>\n",
       "    </tr>\n",
       "    <tr>\n",
       "      <th>3</th>\n",
       "      <td>0.000490</td>\n",
       "      <td>162464</td>\n",
       "      <td>3</td>\n",
       "      <td>0</td>\n",
       "      <td>194873</td>\n",
       "      <td>1.000000</td>\n",
       "    </tr>\n",
       "    <tr>\n",
       "      <th>4</th>\n",
       "      <td>0.000500</td>\n",
       "      <td>161892</td>\n",
       "      <td>4</td>\n",
       "      <td>0</td>\n",
       "      <td>194873</td>\n",
       "      <td>1.000000</td>\n",
       "    </tr>\n",
       "    <tr>\n",
       "      <th>...</th>\n",
       "      <td>...</td>\n",
       "      <td>...</td>\n",
       "      <td>...</td>\n",
       "      <td>...</td>\n",
       "      <td>...</td>\n",
       "      <td>...</td>\n",
       "    </tr>\n",
       "    <tr>\n",
       "      <th>911</th>\n",
       "      <td>0.010746</td>\n",
       "      <td>21629055</td>\n",
       "      <td>911</td>\n",
       "      <td>3</td>\n",
       "      <td>206068</td>\n",
       "      <td>1.057448</td>\n",
       "    </tr>\n",
       "    <tr>\n",
       "      <th>912</th>\n",
       "      <td>0.010756</td>\n",
       "      <td>21620221</td>\n",
       "      <td>912</td>\n",
       "      <td>3</td>\n",
       "      <td>206068</td>\n",
       "      <td>1.057448</td>\n",
       "    </tr>\n",
       "    <tr>\n",
       "      <th>913</th>\n",
       "      <td>0.010766</td>\n",
       "      <td>21593506</td>\n",
       "      <td>913</td>\n",
       "      <td>3</td>\n",
       "      <td>206068</td>\n",
       "      <td>1.057448</td>\n",
       "    </tr>\n",
       "    <tr>\n",
       "      <th>914</th>\n",
       "      <td>0.010776</td>\n",
       "      <td>21587283</td>\n",
       "      <td>914</td>\n",
       "      <td>3</td>\n",
       "      <td>206068</td>\n",
       "      <td>1.057448</td>\n",
       "    </tr>\n",
       "    <tr>\n",
       "      <th>915</th>\n",
       "      <td>0.010787</td>\n",
       "      <td>21346133</td>\n",
       "      <td>915</td>\n",
       "      <td>3</td>\n",
       "      <td>206068</td>\n",
       "      <td>1.057448</td>\n",
       "    </tr>\n",
       "  </tbody>\n",
       "</table>\n",
       "<p>916 rows × 6 columns</p>\n",
       "</div>"
      ],
      "text/plain": [
       "     shutter_time    counts  run_num  shutter_index  shutter_counts  \\\n",
       "0        0.000459    162259        0              0          194873   \n",
       "1        0.000469    160845        1              0          194873   \n",
       "2        0.000480    161957        2              0          194873   \n",
       "3        0.000490    162464        3              0          194873   \n",
       "4        0.000500    161892        4              0          194873   \n",
       "..            ...       ...      ...            ...             ...   \n",
       "911      0.010746  21629055      911              3          206068   \n",
       "912      0.010756  21620221      912              3          206068   \n",
       "913      0.010766  21593506      913              3          206068   \n",
       "914      0.010776  21587283      914              3          206068   \n",
       "915      0.010787  21346133      915              3          206068   \n",
       "\n",
       "     shutter_n_ratio  \n",
       "0           1.000000  \n",
       "1           1.000000  \n",
       "2           1.000000  \n",
       "3           1.000000  \n",
       "4           1.000000  \n",
       "..               ...  \n",
       "911         1.057448  \n",
       "912         1.057448  \n",
       "913         1.057448  \n",
       "914         1.057448  \n",
       "915         1.057448  \n",
       "\n",
       "[916 rows x 6 columns]"
      ]
     },
     "execution_count": 6,
     "metadata": {},
     "output_type": "execute_result"
    }
   ],
   "source": [
    "# merge into one metadata dataframe\n",
    "df_meta = merge_meta_data(df_shutter_count, df_shutter_time, df_spectra)\n",
    "df_meta"
   ]
  },
  {
   "cell_type": "code",
   "execution_count": 7,
   "metadata": {
    "scrolled": true
   },
   "outputs": [
    {
     "data": {
      "application/vnd.jupyter.widget-view+json": {
       "model_id": "",
       "version_major": 2,
       "version_minor": 0
      },
      "text/plain": [
       "HBox(children=(Label(value='Loading sample', layout=Layout(width='20%')), IntProgress(value=0, max=916), Label…"
      ]
     },
     "metadata": {},
     "output_type": "display_data"
    },
    {
     "name": "stdout",
     "output_type": "stream",
     "text": [
      "<class 'NeuNorm.normalization.Normalization'>\n"
     ]
    }
   ],
   "source": [
    "# loading testing images\n",
    "img_dir = \"../data/\"\n",
    "o_norm = load_images(img_dir)\n",
    "print(type(o_norm))"
   ]
  },
  {
   "cell_type": "code",
   "execution_count": 8,
   "metadata": {},
   "outputs": [
    {
     "name": "stdout",
     "output_type": "stream",
     "text": [
      "<class 'numpy.ndarray'> (916, 512, 512)\n"
     ]
    }
   ],
   "source": [
    "# [optional] calculate the pixel occupancy probability\n",
    "pop = calc_pixel_occupancy_probability(o_norm, df_meta)\n",
    "print(type(pop), pop.shape)"
   ]
  },
  {
   "cell_type": "code",
   "execution_count": 9,
   "metadata": {},
   "outputs": [
    {
     "name": "stdout",
     "output_type": "stream",
     "text": [
      "<class 'numpy.ndarray'> (916, 512, 512) float64\n"
     ]
    }
   ],
   "source": [
    "# perform the image correction\n",
    "imgs = correct_images(o_norm, df_meta)\n",
    "print(type(imgs), imgs.shape, imgs.dtype)"
   ]
  },
  {
   "cell_type": "markdown",
   "metadata": {},
   "source": [
    "# Checking raw and corrected data"
   ]
  },
  {
   "cell_type": "code",
   "execution_count": 10,
   "metadata": {},
   "outputs": [
    {
     "name": "stdout",
     "output_type": "stream",
     "text": [
      "(916, 512, 512) float32\n"
     ]
    }
   ],
   "source": [
    "imgs_raw = np.array(o_norm.data['sample']['data'])\n",
    "print(imgs_raw.shape, imgs_raw.dtype)"
   ]
  },
  {
   "cell_type": "code",
   "execution_count": 11,
   "metadata": {
    "scrolled": false
   },
   "outputs": [
    {
     "data": {
      "application/vnd.jupyter.widget-view+json": {
       "model_id": "9c144bb0ba4a42ee9573d483795f207f",
       "version_major": 2,
       "version_minor": 0
      },
      "text/plain": [
       "interactive(children=(IntSlider(value=457, description='n', max=915), Output()), _dom_classes=('widget-interac…"
      ]
     },
     "metadata": {},
     "output_type": "display_data"
    }
   ],
   "source": [
    "@interact(n=(0,915))\n",
    "def compare(n):\n",
    "    fig, ax = plt.subplots(1, 2, figsize=(8,4))\n",
    "    ax[0].imshow(imgs_raw[n,:,:], cmap=\"Greys\")\n",
    "    ax[0].set_title(\"raw\")\n",
    "    ax[1].imshow(imgs[n,:,:], cmap=\"Greys\")\n",
    "    ax[1].set_title(\"corrected\")"
   ]
  },
  {
   "cell_type": "code",
   "execution_count": null,
   "metadata": {},
   "outputs": [],
   "source": [
    "fig, ax = plt.subplots(figsize=(10, 5))\n",
    "\n",
    "prof_raw = [np.mean(img) for img in imgs_raw[:][:]]\n",
    "prof_new = [np.mean(img) for img in imgs]\n",
    "\n",
    "ax.plot(prof_raw, \"bo\", label=\"raw\")\n",
    "ax.plot(prof_new, \"g+\", label=\"corrected\")\n",
    "\n",
    "ax.legend()"
   ]
  },
  {
   "cell_type": "code",
   "execution_count": null,
   "metadata": {},
   "outputs": [],
   "source": []
  }
 ],
 "metadata": {
  "kernelspec": {
   "display_name": "Python 3",
   "language": "python",
   "name": "python3"
  },
  "language_info": {
   "codemirror_mode": {
    "name": "ipython",
    "version": 3
   },
   "file_extension": ".py",
   "mimetype": "text/x-python",
   "name": "python",
   "nbconvert_exporter": "python",
   "pygments_lexer": "ipython3",
   "version": "3.8.5"
  }
 },
 "nbformat": 4,
 "nbformat_minor": 4
}
